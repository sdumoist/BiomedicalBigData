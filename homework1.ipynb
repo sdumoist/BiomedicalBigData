{
 "cells": [
  {
   "cell_type": "code",
   "execution_count": 91,
   "id": "05edc59d",
   "metadata": {},
   "outputs": [],
   "source": [
    "import numpy as np\n",
    "import glob\n",
    "import pandas as pd\n",
    "from sklearn.ensemble import RandomForestClassifier\n",
    "from sklearn.metrics import accuracy_score\n",
    "from sklearn.model_selection import train_test_split\n",
    "from sklearn.decomposition import PCA\n",
    "import matplotlib.pyplot as plt\n",
    "from sklearn.mixture import GaussianMixture"
   ]
  },
  {
   "cell_type": "code",
   "execution_count": 92,
   "id": "3285892c",
   "metadata": {},
   "outputs": [
    {
     "name": "stdout",
     "output_type": "stream",
     "text": [
      "['data/GSE162164_RAW\\\\GSM4943767_TB_HIV_1.txt', 'data/GSE162164_RAW\\\\GSM4943768_TB_HIV_2.txt', 'data/GSE162164_RAW\\\\GSM4943769_TB_HIV_3.txt', 'data/GSE162164_RAW\\\\GSM4943770_HIV_4.txt', 'data/GSE162164_RAW\\\\GSM4943771_TB_HIV_5.txt', 'data/GSE162164_RAW\\\\GSM4943772_TB_HIV_6.txt', 'data/GSE162164_RAW\\\\GSM4943773_HIV_7.txt', 'data/GSE162164_RAW\\\\GSM4943774_HIV_8.txt', 'data/GSE162164_RAW\\\\GSM4943775_TB_HIV_9.txt', 'data/GSE162164_RAW\\\\GSM4943776_HIV_10.txt', 'data/GSE162164_RAW\\\\GSM4943777_HIV_11.txt', 'data/GSE162164_RAW\\\\GSM4943778_HIV_12.txt', 'data/GSE162164_RAW\\\\GSM4943779_TB_HIV_13.txt', 'data/GSE162164_RAW\\\\GSM4943780_HIV_14.txt', 'data/GSE162164_RAW\\\\GSM4943781_TB_HIV_15.txt', 'data/GSE162164_RAW\\\\GSM4943782_HIV_16.txt', 'data/GSE162164_RAW\\\\GSM4943783_HIV_17.txt', 'data/GSE162164_RAW\\\\GSM4943784_HIV_18.txt', 'data/GSE162164_RAW\\\\GSM4943785_HIV_19.txt', 'data/GSE162164_RAW\\\\GSM4943786_TB_HIV_20.txt', 'data/GSE162164_RAW\\\\GSM4943787_TB_HIV_21.txt', 'data/GSE162164_RAW\\\\GSM4943788_TB_HIV_22.txt', 'data/GSE162164_RAW\\\\GSM4943789_TB_HIV_23.txt', 'data/GSE162164_RAW\\\\GSM4943790_TB_HIV_24.txt', 'data/GSE162164_RAW\\\\GSM4943791_TB_HIV_25.txt']\n"
     ]
    }
   ],
   "source": [
    "file_paths = glob.glob('data/GSE162164_RAW/*.txt')#得到所有路径\n",
    "print(file_paths)"
   ]
  },
  {
   "cell_type": "code",
   "execution_count": 93,
   "id": "2d5374d1",
   "metadata": {},
   "outputs": [],
   "source": [
    "# 初始化空列表\n",
    "FeatureSet = []\n",
    "labels = []"
   ]
  },
  {
   "cell_type": "code",
   "execution_count": 94,
   "id": "8bd1805a",
   "metadata": {
    "scrolled": true
   },
   "outputs": [],
   "source": [
    "f=open(\"data/GSE162164_counts/GSE162164_counts.txt\",\"r\")\n",
    "lf=f.readlines()\n",
    "f.close()"
   ]
  },
  {
   "cell_type": "code",
   "execution_count": 95,
   "id": "4f1c565a",
   "metadata": {},
   "outputs": [],
   "source": [
    "lf=[item.strip().split(\"\\t\") for item in lf]\n",
    "features=[item[0] for item in lf[1:]]\n",
    "FeatureSet=[item[1:] for item in lf[1:]]\n",
    "FeatureSet=np.array(FeatureSet,dtype=float)\n",
    "# 遍历文件得到每一个患者的标签，是HIV（0）还是HIV+TB（1）\n",
    "for file_path in file_paths:  \n",
    "    with open(file_path,\"r\") as file:\n",
    "        first_line = file.readline().strip()\n",
    "    if first_line[0]==\"T\":\n",
    "        label=1\n",
    "    else:\n",
    "        label=0\n",
    "    labels.append(label)"
   ]
  },
  {
   "cell_type": "code",
   "execution_count": 96,
   "id": "7e41303f",
   "metadata": {},
   "outputs": [
    {
     "name": "stdout",
     "output_type": "stream",
     "text": [
      "[1, 1, 1, 0, 1, 1, 0, 0, 1, 0, 0, 0, 1, 0, 1, 0, 0, 0, 0, 1, 1, 1, 1, 1, 1]\n"
     ]
    }
   ],
   "source": [
    "print(labels)\n",
    "FeatureSet=FeatureSet.T"
   ]
  },
  {
   "cell_type": "code",
   "execution_count": 97,
   "id": "a6ef3582",
   "metadata": {},
   "outputs": [],
   "source": [
    "#划分训练集和测试集\n",
    "X_train, X_test, y_train, y_test = train_test_split(FeatureSet, labels, test_size=0.2, random_state=42)"
   ]
  },
  {
   "cell_type": "code",
   "execution_count": 98,
   "id": "4400303b",
   "metadata": {},
   "outputs": [
    {
     "data": {
      "text/html": [
       "<style>#sk-container-id-10 {color: black;background-color: white;}#sk-container-id-10 pre{padding: 0;}#sk-container-id-10 div.sk-toggleable {background-color: white;}#sk-container-id-10 label.sk-toggleable__label {cursor: pointer;display: block;width: 100%;margin-bottom: 0;padding: 0.3em;box-sizing: border-box;text-align: center;}#sk-container-id-10 label.sk-toggleable__label-arrow:before {content: \"▸\";float: left;margin-right: 0.25em;color: #696969;}#sk-container-id-10 label.sk-toggleable__label-arrow:hover:before {color: black;}#sk-container-id-10 div.sk-estimator:hover label.sk-toggleable__label-arrow:before {color: black;}#sk-container-id-10 div.sk-toggleable__content {max-height: 0;max-width: 0;overflow: hidden;text-align: left;background-color: #f0f8ff;}#sk-container-id-10 div.sk-toggleable__content pre {margin: 0.2em;color: black;border-radius: 0.25em;background-color: #f0f8ff;}#sk-container-id-10 input.sk-toggleable__control:checked~div.sk-toggleable__content {max-height: 200px;max-width: 100%;overflow: auto;}#sk-container-id-10 input.sk-toggleable__control:checked~label.sk-toggleable__label-arrow:before {content: \"▾\";}#sk-container-id-10 div.sk-estimator input.sk-toggleable__control:checked~label.sk-toggleable__label {background-color: #d4ebff;}#sk-container-id-10 div.sk-label input.sk-toggleable__control:checked~label.sk-toggleable__label {background-color: #d4ebff;}#sk-container-id-10 input.sk-hidden--visually {border: 0;clip: rect(1px 1px 1px 1px);clip: rect(1px, 1px, 1px, 1px);height: 1px;margin: -1px;overflow: hidden;padding: 0;position: absolute;width: 1px;}#sk-container-id-10 div.sk-estimator {font-family: monospace;background-color: #f0f8ff;border: 1px dotted black;border-radius: 0.25em;box-sizing: border-box;margin-bottom: 0.5em;}#sk-container-id-10 div.sk-estimator:hover {background-color: #d4ebff;}#sk-container-id-10 div.sk-parallel-item::after {content: \"\";width: 100%;border-bottom: 1px solid gray;flex-grow: 1;}#sk-container-id-10 div.sk-label:hover label.sk-toggleable__label {background-color: #d4ebff;}#sk-container-id-10 div.sk-serial::before {content: \"\";position: absolute;border-left: 1px solid gray;box-sizing: border-box;top: 0;bottom: 0;left: 50%;z-index: 0;}#sk-container-id-10 div.sk-serial {display: flex;flex-direction: column;align-items: center;background-color: white;padding-right: 0.2em;padding-left: 0.2em;position: relative;}#sk-container-id-10 div.sk-item {position: relative;z-index: 1;}#sk-container-id-10 div.sk-parallel {display: flex;align-items: stretch;justify-content: center;background-color: white;position: relative;}#sk-container-id-10 div.sk-item::before, #sk-container-id-10 div.sk-parallel-item::before {content: \"\";position: absolute;border-left: 1px solid gray;box-sizing: border-box;top: 0;bottom: 0;left: 50%;z-index: -1;}#sk-container-id-10 div.sk-parallel-item {display: flex;flex-direction: column;z-index: 1;position: relative;background-color: white;}#sk-container-id-10 div.sk-parallel-item:first-child::after {align-self: flex-end;width: 50%;}#sk-container-id-10 div.sk-parallel-item:last-child::after {align-self: flex-start;width: 50%;}#sk-container-id-10 div.sk-parallel-item:only-child::after {width: 0;}#sk-container-id-10 div.sk-dashed-wrapped {border: 1px dashed gray;margin: 0 0.4em 0.5em 0.4em;box-sizing: border-box;padding-bottom: 0.4em;background-color: white;}#sk-container-id-10 div.sk-label label {font-family: monospace;font-weight: bold;display: inline-block;line-height: 1.2em;}#sk-container-id-10 div.sk-label-container {text-align: center;}#sk-container-id-10 div.sk-container {/* jupyter's `normalize.less` sets `[hidden] { display: none; }` but bootstrap.min.css set `[hidden] { display: none !important; }` so we also need the `!important` here to be able to override the default hidden behavior on the sphinx rendered scikit-learn.org. See: https://github.com/scikit-learn/scikit-learn/issues/21755 */display: inline-block !important;position: relative;}#sk-container-id-10 div.sk-text-repr-fallback {display: none;}</style><div id=\"sk-container-id-10\" class=\"sk-top-container\"><div class=\"sk-text-repr-fallback\"><pre>RandomForestClassifier()</pre><b>In a Jupyter environment, please rerun this cell to show the HTML representation or trust the notebook. <br />On GitHub, the HTML representation is unable to render, please try loading this page with nbviewer.org.</b></div><div class=\"sk-container\" hidden><div class=\"sk-item\"><div class=\"sk-estimator sk-toggleable\"><input class=\"sk-toggleable__control sk-hidden--visually\" id=\"sk-estimator-id-10\" type=\"checkbox\" checked><label for=\"sk-estimator-id-10\" class=\"sk-toggleable__label sk-toggleable__label-arrow\">RandomForestClassifier</label><div class=\"sk-toggleable__content\"><pre>RandomForestClassifier()</pre></div></div></div></div></div>"
      ],
      "text/plain": [
       "RandomForestClassifier()"
      ]
     },
     "execution_count": 98,
     "metadata": {},
     "output_type": "execute_result"
    }
   ],
   "source": [
    "#构建随机森林模型\n",
    "rf_model = RandomForestClassifier()\n",
    "rf_model.fit(X_train, y_train)"
   ]
  },
  {
   "cell_type": "code",
   "execution_count": 99,
   "id": "3517e008",
   "metadata": {},
   "outputs": [],
   "source": [
    "# 进行预测\n",
    "y_pred = rf_model.predict(X_test)"
   ]
  },
  {
   "cell_type": "code",
   "execution_count": 100,
   "id": "c668bcd0",
   "metadata": {},
   "outputs": [
    {
     "data": {
      "text/plain": [
       "array([0, 0, 1, 1, 0])"
      ]
     },
     "execution_count": 100,
     "metadata": {},
     "output_type": "execute_result"
    }
   ],
   "source": [
    "y_pred"
   ]
  },
  {
   "cell_type": "code",
   "execution_count": 101,
   "id": "368a6131",
   "metadata": {},
   "outputs": [
    {
     "data": {
      "text/plain": [
       "0.96"
      ]
     },
     "execution_count": 101,
     "metadata": {},
     "output_type": "execute_result"
    }
   ],
   "source": [
    "rf_model.score(FeatureSet,labels)"
   ]
  },
  {
   "cell_type": "code",
   "execution_count": 102,
   "id": "91c3bfb8",
   "metadata": {},
   "outputs": [
    {
     "name": "stdout",
     "output_type": "stream",
     "text": [
      "模型准确度： 0.8\n"
     ]
    }
   ],
   "source": [
    "# 计算准确度\n",
    "accuracy = accuracy_score(y_test, y_pred)\n",
    "print(\"模型准确度：\", accuracy) # 0.8"
   ]
  },
  {
   "cell_type": "code",
   "execution_count": null,
   "id": "3df16849",
   "metadata": {},
   "outputs": [],
   "source": []
  },
  {
   "cell_type": "code",
   "execution_count": 103,
   "id": "c303c770",
   "metadata": {},
   "outputs": [],
   "source": [
    "def getAccuracy(test_predict,test_true):\n",
    "    match=0\n",
    "    for i in range(len(test_predict)):\n",
    "        ipredict=test_predict[i]\n",
    "        itrue=test_true[i]\n",
    "        if ipredict==itrue:\n",
    "            match+=1\n",
    "    accuracy=match/len(test_predict)\n",
    "    return max(accuracy,1-accuracy)"
   ]
  },
  {
   "cell_type": "code",
   "execution_count": 104,
   "id": "895ae9f6",
   "metadata": {},
   "outputs": [
    {
     "data": {
      "text/plain": [
       "0.8"
      ]
     },
     "execution_count": 104,
     "metadata": {},
     "output_type": "execute_result"
    }
   ],
   "source": [
    "getAccuracy(y_pred,y_test)"
   ]
  },
  {
   "cell_type": "code",
   "execution_count": null,
   "id": "c4ebbc3b",
   "metadata": {},
   "outputs": [],
   "source": []
  },
  {
   "cell_type": "code",
   "execution_count": null,
   "id": "16c2f976",
   "metadata": {},
   "outputs": [],
   "source": []
  }
 ],
 "metadata": {
  "kernelspec": {
   "display_name": "Python 3 (ipykernel)",
   "language": "python",
   "name": "python3"
  },
  "language_info": {
   "codemirror_mode": {
    "name": "ipython",
    "version": 3
   },
   "file_extension": ".py",
   "mimetype": "text/x-python",
   "name": "python",
   "nbconvert_exporter": "python",
   "pygments_lexer": "ipython3",
   "version": "3.10.9"
  }
 },
 "nbformat": 4,
 "nbformat_minor": 5
}
